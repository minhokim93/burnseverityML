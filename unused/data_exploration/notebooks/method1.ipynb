{
 "cells": [
  {
   "cell_type": "markdown",
   "id": "75ff3fdb",
   "metadata": {},
   "source": [
    "# Multi-scale Clustering Analysis of Wildfire Hazards and Machine Learning-based Burn Severity Prediction\n",
    "## Sampling method1: Random pixel sampling"
   ]
  },
  {
   "cell_type": "markdown",
   "id": "963c4aab",
   "metadata": {},
   "source": [
    "## Required libraries and dependencies"
   ]
  },
  {
   "cell_type": "code",
   "execution_count": 1,
   "id": "6eb610e3",
   "metadata": {},
   "outputs": [],
   "source": [
    "import rasterio, os, glob, warnings, time\n",
    "import numpy as np\n",
    "import pandas as pd\n",
    "\n",
    "import matplotlib.pyplot as plt\n",
    "import matplotlib\n",
    "%matplotlib inline\n",
    "import seaborn as sns\n",
    "\n",
    "from sklearn.model_selection import train_test_split\n",
    "from sklearn.ensemble import RandomForestClassifier\n",
    "from sklearn.metrics import confusion_matrix, classification_report\n",
    "from sklearn import metrics\n",
    "from sklearn.inspection import permutation_importance \n",
    "\n",
    "from sampling import *\n",
    "from utils import *\n",
    "\n",
    "warnings.filterwarnings(\"ignore\")\n",
    "plt.rcParams[\"figure.autolayout\"] = True"
   ]
  },
  {
   "cell_type": "markdown",
   "id": "66cb83e1",
   "metadata": {},
   "source": [
    "## Input Paths and Data\n",
    "Change data paths to local"
   ]
  },
  {
   "cell_type": "code",
   "execution_count": 2,
   "id": "7416a84c",
   "metadata": {},
   "outputs": [],
   "source": [
    "# Input image paths\n",
    "basepath = '/Users/minho/Documents/GitHub/explainableFire/datasets'\n",
    "# os.chdir(path)\n",
    "\n",
    "# img_train = sorted(glob.glob('s2*.tif'))\n",
    "# dem_train = sorted(glob.glob('dem*.tif'))\n",
    "# slope_train = sorted(glob.glob('slope*.tif'))\n",
    "# aoi_train = sorted(glob.glob('fire*.tif'))\n",
    "# lulc_train = sorted(glob.glob('lulc*.tif'))\n",
    "\n",
    "# Weather data\n",
    "# rmin_train = sorted(glob.glob('rmin*.tif'))\n",
    "# rmax_train = sorted(glob.glob('rmax*.tif'))\n",
    "# tmmn_train = sorted(glob.glob('tmmn*.tif'))\n",
    "# tmmx_train = sorted(glob.glob('tmmx*.tif'))\n",
    "# vs_train = sorted(glob.glob('vs*.tif'))"
   ]
  },
  {
   "cell_type": "code",
   "execution_count": 3,
   "id": "550f0e88",
   "metadata": {},
   "outputs": [],
   "source": [
    "# Input Parameters\n",
    "number_of_sample_points = 10000 # This selects the number of samples from each burn severity class\n",
    "random_state = 42 # Random seed number to keep consistent\n",
    "input_bands = 5 # Number of features in the training dataset (10) and with weather (10 + 5)\n",
    "\n",
    "patch_size = 10 # Patch size (Order of neighboring pixels - eg. 10 = 10x10 patch)"
   ]
  },
  {
   "cell_type": "markdown",
   "id": "d3fb4c36",
   "metadata": {},
   "source": [
    "## Sampling\n",
    "- Total samples: 10,000 samples (points at 10m resolution) with 2,500 samples for each burn severity class\n",
    "- Split: Frequency relative to total pixel count for each burn severity class\n",
    "- Method: Random sampling "
   ]
  },
  {
   "cell_type": "code",
   "execution_count": 4,
   "id": "39f0fbbb",
   "metadata": {},
   "outputs": [],
   "source": [
    "# Create input dataset stack\n",
    "img_train, dem_train, slope_train, lulc_train, aoi_train = paths(basepath)\n",
    "\n",
    "img_size_list = []\n",
    "\n",
    "for i in range(len(img_train)):\n",
    "    img, img_meta = open_multiband(img_train[i])    \n",
    "    img_size_list.append(img.shape[0]*img.shape[1])    \n",
    "    \n",
    "del img_meta \n",
    "\n",
    "img_size_df = pd.DataFrame(columns = ['size', 'weight','weighted_pix', 'low','low-med','med-high','high'])\n",
    "img_size_df.size = img_size_list\n",
    "# img_size_df.reset_index(level=0, inplace=True)\n",
    "\n",
    "# Random sampling for each image (based on AOI size and burn severity class frequency)\n",
    "for i in range(len(img_size_df)):\n",
    "    img_size_df['weight'][i] = img_size_df['size'][i]/img_size_df['size'].sum()\n",
    "    img_size_df['weighted_pix'][i] = img_size_df['weight'][i]*100\n",
    "\n",
    "    aoi, aoi_meta = open_data(aoi_train[i])\n",
    "    aoi[aoi > 4] = 0 # Set nodata values to 0 or NaN\n",
    "    \n",
    "    img_size_df['low'][i] = len(aoi[aoi==1])\n",
    "    img_size_df['low-med'][i] = len(aoi[aoi==2])\n",
    "    img_size_df['med-high'][i] = len(aoi[aoi==3])\n",
    "    img_size_df['high'][i] = len(aoi[aoi==4])\n",
    "    \n",
    "del aoi_meta\n",
    "\n",
    "burn_sev_df = img_size_df.copy().drop(columns = ['size','weight','weighted_pix'])\n",
    "\n",
    "for i in range(len(img_size_df)):\n",
    "    burn_sev_df['low'][i] = img_size_df['low'][i]/img_size_df['low'].sum()*number_of_sample_points\n",
    "    burn_sev_df['low-med'][i] = img_size_df['low-med'][i]/img_size_df['low-med'].sum()*number_of_sample_points\n",
    "    burn_sev_df['med-high'][i] = img_size_df['med-high'][i]/img_size_df['med-high'].sum()*number_of_sample_points\n",
    "    burn_sev_df['high'][i] = img_size_df['high'][i]/img_size_df['high'].sum()*number_of_sample_points"
   ]
  },
  {
   "cell_type": "markdown",
   "id": "b09d1c8e",
   "metadata": {},
   "source": [
    "# Processing methods (Choose ONE)\n",
    "- Method 0 : Patch based averages --> 18 features\n",
    "- Method 1 : Random sampling --> 10 features\n",
    "- Method 2 : Fixed sampling --> 10 features\n",
    "- Method 3 : Random + Fixed sampling using dataset split in chronological order\n",
    "- Method 4 : Patch sampling --> 10 features (for deep learning : creates 4d tensors)\n",
    "** eg. (# samples, patch_x, patch_y, # features)"
   ]
  },
  {
   "cell_type": "markdown",
   "id": "a913b448",
   "metadata": {},
   "source": [
    "## Method 0 (Patch-based averages)\n",
    "- 18 features"
   ]
  },
  {
   "cell_type": "code",
   "execution_count": 5,
   "id": "4e689f9f",
   "metadata": {},
   "outputs": [],
   "source": [
    "# Set AOI sample counts\n",
    "df1 = burn_sev_df.round(0).astype(int)\n",
    "\n",
    "# Set empty placeholders for training dataset\n",
    "low_train = pd.DataFrame(columns = ['c1','c2','features'])\n",
    "mlow_train = pd.DataFrame(columns = ['c1','c2','features'])\n",
    "mhigh_train = pd.DataFrame(columns = ['c1','c2','features'])\n",
    "high_train = pd.DataFrame(columns = ['c1','c2','features'])\n",
    "\n",
    "# Method 1 : Random sampling\n",
    "for i in range(len(df1)): # df1 = Dataframe with burn severity AOIs\n",
    "   \n",
    "    img_stack, img_stack_meta = input_data(method=1, basepath=basepath, patch_size=patch_size, i=i)\n",
    "    \n",
    "    # Find required number of samples for each burn severity class\n",
    "    aoi_t, aoi_low, aoi_mlow, aoi_mhigh, aoi_high = read_aoi(aoi_train[i])\n",
    "\n",
    "    def random_sample(sample_dataset, sev_dataset, clss, sev_num):\n",
    "        # Number of samples to be selected for random sampling\n",
    "        sample_count = sample_dataset[clss][i]\n",
    "        # Random sampling for each burn severity class\n",
    "        sev_df = aoi_sampling(img_stack, sev_dataset, sev_num, sample_count, random_state, img_stack_meta)\n",
    "        return sev_df\n",
    "\n",
    "    # Extract random samples from each burn severity class\n",
    "    low_df = random_sample(df1, aoi_low, 'low', 1)\n",
    "    mlow_df = random_sample(df1, aoi_mlow, 'low-med', 2)\n",
    "    mhigh_df = random_sample(df1, aoi_mhigh, 'med-high', 3)\n",
    "    high_df = random_sample(df1, aoi_high, 'high', 4)\n",
    "    \n",
    "    # Add to training datasets\n",
    "    low_train=low_train.append(low_df)\n",
    "    mlow_train=mlow_train.append(mlow_df)\n",
    "    mhigh_train=mhigh_train.append(mhigh_df)\n",
    "    high_train=high_train.append(high_df)"
   ]
  },
  {
   "cell_type": "code",
   "execution_count": 6,
   "id": "b0543c66",
   "metadata": {},
   "outputs": [
    {
     "name": "stdout",
     "output_type": "stream",
     "text": [
      "Low:  9979\n",
      "Low-Med:  9979\n",
      "Med-High:  9984\n",
      "High:  9985\n"
     ]
    }
   ],
   "source": [
    "def create_datasets(train_set, sev):\n",
    "    train = train_set.reset_index(inplace=False, drop=True)\n",
    "    train_dataset = pd.DataFrame(train[\"features\"].to_list(), columns=['f1','f2','f3','f4','f5','f6','f7','f8','f9','f10'])\n",
    "    train_dataset['latitude'] = train['latitude']\n",
    "    train_dataset['longitude'] = train['longitude']\n",
    "\n",
    "    gt_dataset = np.full((train_dataset.shape[0], 1), sev)\n",
    "    \n",
    "    return train_dataset, gt_dataset\n",
    "\n",
    "low_train, low_gt = create_datasets(low_train, 1)\n",
    "mlow_train, mlow_gt = create_datasets(mlow_train, 2)\n",
    "mhigh_train, mhigh_gt = create_datasets(mhigh_train, 3)\n",
    "high_train, high_gt = create_datasets(high_train, 4)\n",
    "\n",
    "low_train['class'] = 1\n",
    "mlow_train['class'] = 2\n",
    "mhigh_train['class'] = 3\n",
    "high_train['class'] = 4\n",
    "\n",
    "print(\"Low: \", len(low_train))\n",
    "print(\"Low-Med: \", len(mlow_train))\n",
    "print(\"Med-High: \", len(mhigh_train))\n",
    "print(\"High: \", len(high_train))\n",
    "\n",
    "del aoi_low, aoi_mlow, aoi_mhigh, aoi_high, img_stack \n",
    "del low_df, mlow_df, mhigh_df, high_df\n",
    "# del aoi, aoi_t\n",
    "\n"
   ]
  },
  {
   "cell_type": "code",
   "execution_count": 7,
   "id": "42952714",
   "metadata": {},
   "outputs": [],
   "source": [
    "training_dataset_gdb = np.vstack((low_train, mlow_train, mhigh_train, high_train))\n",
    "gt_dataset = np.vstack((low_gt, mlow_gt, mhigh_gt, high_gt))\n",
    "\n",
    "cluster_variables = ['Blue','Green','Red','NIR','NDVI','SAVI','DEM','Slope','Aspect','LULC','Latitude','Longitude','class']\n",
    "training_dataset_gdb = pd.DataFrame(training_dataset_gdb, columns = cluster_variables)\n",
    "training_dataset = training_dataset_gdb.drop(columns=['Latitude','Longitude','class'])\n"
   ]
  },
  {
   "cell_type": "code",
   "execution_count": 8,
   "id": "fc46fab0",
   "metadata": {},
   "outputs": [
    {
     "name": "stdout",
     "output_type": "stream",
     "text": [
      "Training dataset size:  31941\n",
      "Test dataset size:  7986\n"
     ]
    }
   ],
   "source": [
    "# Holdout sets\n",
    "X_train, X_test, y_train, y_test = train_test_split(training_dataset, gt_dataset, test_size=0.2, random_state=random_state)\n",
    "# X_train, X_val, y_train, y_val = train_test_split(X_train, y_train, test_size=0.25, random_state=1) # 0.25 x 0.8 = 0.2\n",
    "print(\"Training dataset size: \", len(X_train))\n",
    "print(\"Test dataset size: \", len(X_test))"
   ]
  },
  {
   "cell_type": "code",
   "execution_count": 9,
   "id": "4e8712bb",
   "metadata": {},
   "outputs": [
    {
     "name": "stdout",
     "output_type": "stream",
     "text": [
      "Accuracy: 0.620961682945154\n",
      "              precision    recall  f1-score   support\n",
      "\n",
      "           1       0.72      0.70      0.70      2040\n",
      "           2       0.55      0.54      0.55      1936\n",
      "           3       0.53      0.48      0.50      2004\n",
      "           4       0.67      0.76      0.71      2006\n",
      "\n",
      "    accuracy                           0.62      7986\n",
      "   macro avg       0.62      0.62      0.62      7986\n",
      "weighted avg       0.62      0.62      0.62      7986\n",
      "\n"
     ]
    }
   ],
   "source": [
    "# Create a Classifier (Random Forest)\n",
    "clf=RandomForestClassifier(n_estimators=100, n_jobs=-1)\n",
    "clf.fit(X_train,y_train) # Train the model using the training sets y_pred=clf.predict(X_test)\n",
    "y_pred=clf.predict(X_test)\n",
    "\n",
    "# Model Accuracy, how often is the classifier correct?\n",
    "print(\"Accuracy:\",metrics.accuracy_score(y_test, y_pred))\n",
    "cr = classification_report(y_test, y_pred)\n",
    "print(cr)"
   ]
  },
  {
   "cell_type": "code",
   "execution_count": 10,
   "id": "41aa8e2a",
   "metadata": {},
   "outputs": [
    {
     "data": {
      "image/png": "[encoded data removed]",
      "text/plain": [
       "<Figure size 864x576 with 2 Axes>"
      ]
     },
     "metadata": {
      "needs_background": "light"
     },
     "output_type": "display_data"
    }
   ],
   "source": [
    "# Feature importance (permutation)\n",
    "feature_names = ['Blue','Green','Red','NIR','NDVI','SAVI','DEM','Slope','Aspect','LULC']\n",
    "\n",
    "# Combination of MDI and permutation importance (Vertical graphs)\n",
    "result = permutation_importance(clf, X_train, y_train, n_repeats=10, random_state=42)\n",
    "perm_sorted_idx = result.importances_mean.argsort()\n",
    "\n",
    "tree_importance_sorted_idx = np.argsort(clf.feature_importances_)\n",
    "tree_indices = np.arange(0, len(clf.feature_importances_)) + 0.5\n",
    "\n",
    "fig, (ax1, ax2) = plt.subplots(1, 2, figsize=(12, 8))\n",
    "ax1.barh(tree_indices, clf.feature_importances_[tree_importance_sorted_idx], height=0.7)\n",
    "ax1.set_yticks(tree_indices)\n",
    "ax1.set_yticklabels([feature_names[i] for i in tree_importance_sorted_idx])\n",
    "ax1.set_ylim((0, len(clf.feature_importances_)))\n",
    "ax2.boxplot(\n",
    "    result.importances[perm_sorted_idx].T,\n",
    "    vert=False,\n",
    "    labels=[feature_names[i] for i in perm_sorted_idx],\n",
    ")\n",
    "fig.tight_layout()\n",
    "plt.show()"
   ]
  },
  {
   "cell_type": "markdown",
   "id": "1247e642",
   "metadata": {},
   "source": [
    "## Set of all machine learning algorithms"
   ]
  },
  {
   "cell_type": "code",
   "execution_count": 11,
   "id": "37d461ab",
   "metadata": {},
   "outputs": [
    {
     "name": "stdout",
     "output_type": "stream",
     "text": [
      "mlp accuracy: 0.5921612822439268\n",
      "gnb accuracy: 0.42649636864512896\n",
      "ada accuracy: 0.4932381667918858\n",
      "gbc accuracy: 0.5715001252191335\n",
      "rf accuracy: 0.6169546706736789\n"
     ]
    }
   ],
   "source": [
    "from sklearn.ensemble import RandomForestClassifier,AdaBoostClassifier,GradientBoostingClassifier\n",
    "from sklearn.neural_network import MLPClassifier\n",
    "from sklearn.naive_bayes import GaussianNB\n",
    "from sklearn import metrics\n",
    "\n",
    "clf_list = {\n",
    "    'mlp': MLPClassifier(random_state=random_state, max_iter=1000),\n",
    "    'gnb': GaussianNB(),\n",
    "    'ada': AdaBoostClassifier(random_state=random_state),\n",
    "    'gbc': GradientBoostingClassifier(random_state=random_state),\n",
    "    'rf':  RandomForestClassifier(n_estimators=100, n_jobs=-1,random_state=random_state)\n",
    "}\n",
    "clf_df = []\n",
    "\n",
    "\n",
    "def ml_classify(clf, clf_name):\n",
    "\n",
    "    #Train the model using the training sets y_pred=clf.predict(X_test)\n",
    "    clf.fit(X_train,y_train)\n",
    "    y_pred=clf.predict(X_test)\n",
    "\n",
    "    # Model Accuracy, how often is the classifier correct?\n",
    "    print(key, \"accuracy:\",metrics.accuracy_score(y_test, y_pred))\n",
    "    \n",
    "    cr = classification_report(y_test, y_pred, output_dict = True)\n",
    "    df = pd.DataFrame(cr).transpose()\n",
    "    \n",
    "    return df\n",
    "\n",
    "\n",
    "for key, classifier in clf_list.items():\n",
    "    cr = ml_classify(classifier, key)\n",
    "#     clf_df.append(key)\n",
    "    clf_df.append(cr)"
   ]
  },
  {
   "cell_type": "code",
   "execution_count": 12,
   "id": "f2bcd6f2",
   "metadata": {},
   "outputs": [],
   "source": [
    "# Save files to folder\n",
    "\n",
    "# clf_df[0].to_csv ('mlp_fixed.csv', index = False, header=True)\n",
    "# clf_df[1].to_csv ('gnb_fixed.csv', index = False, header=True)\n",
    "# clf_df[2].to_csv ('ada_fixed.csv', index = False, header=True)\n",
    "# clf_df[3].to_csv ('gbc_fixed.csv', index = False, header=True)\n",
    "# clf_df[4].to_csv ('rf_fixed.csv', index = False, header=True)"
   ]
  },
  {
   "cell_type": "code",
   "execution_count": null,
   "id": "8436f85e",
   "metadata": {},
   "outputs": [],
   "source": []
  }
 ],
 "metadata": {
  "kernelspec": {
   "display_name": "Python 3.9.6 ('ce263')",
   "language": "python",
   "name": "python3"
  },
  "language_info": {
   "codemirror_mode": {
    "name": "ipython",
    "version": 3
   },
   "file_extension": ".py",
   "mimetype": "text/x-python",
   "name": "python",
   "nbconvert_exporter": "python",
   "pygments_lexer": "ipython3",
   "version": "3.9.6"
  },
  "varInspector": {
   "cols": {
    "lenName": 16,
    "lenType": 16,
    "lenVar": 40
   },
   "kernels_config": {
    "python": {
     "delete_cmd_postfix": "",
     "delete_cmd_prefix": "del ",
     "library": "var_list.py",
     "varRefreshCmd": "print(var_dic_list())"
    },
    "r": {
     "delete_cmd_postfix": ") ",
     "delete_cmd_prefix": "rm(",
     "library": "var_list.r",
     "varRefreshCmd": "cat(var_dic_list()) "
    }
   },
   "position": {
    "height": "464px",
    "left": "425px",
    "right": "20px",
    "top": "163px",
    "width": "800px"
   },
   "types_to_exclude": [
    "module",
    "function",
    "builtin_function_or_method",
    "instance",
    "_Feature"
   ],
   "window_display": false
  },
  "vscode": {
   "interpreter": {
    "hash": "1bcc9cdd5287ee50dbb64802ca9d36459a963ef6997022abe32be93168cb48af"
   }
  }
 },
 "nbformat": 4,
 "nbformat_minor": 5
}
