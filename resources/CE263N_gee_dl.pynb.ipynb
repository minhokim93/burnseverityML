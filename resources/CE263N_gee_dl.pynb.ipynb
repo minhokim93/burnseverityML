{
 "cells": [
  {
   "cell_type": "markdown",
   "id": "5fa6549c",
   "metadata": {},
   "source": [
    "# CE263N Final Project\n",
    "Minho Kim (PhD, Landscape Arch. & Env. Planning)\n",
    "Keats Hua (Masters, Civil & Env. Engineering)"
   ]
  },
  {
   "cell_type": "code",
   "execution_count": 1,
   "id": "123739f3",
   "metadata": {
    "scrolled": true
   },
   "outputs": [],
   "source": [
    "# Installs geemap package\n",
    "import subprocess\n",
    "\n",
    "try:\n",
    "    import geemap\n",
    "except ImportError:\n",
    "    print('Installing geemap ...')\n",
    "    subprocess.check_call([\"python\", '-m', 'pip', 'install', 'geemap'])"
   ]
  },
  {
   "cell_type": "code",
   "execution_count": 2,
   "id": "6971f789",
   "metadata": {},
   "outputs": [],
   "source": [
    "# ee.Authenticate()"
   ]
  },
  {
   "cell_type": "code",
   "execution_count": 3,
   "id": "ebd5e0f9",
   "metadata": {},
   "outputs": [],
   "source": [
    "import ee\n",
    "ee.Initialize()\n",
    "\n",
    "import geemap\n",
    "import pandas as pd\n",
    "import os\n",
    "import rasterio\n",
    "import matplotlib.pyplot as plt"
   ]
  },
  {
   "cell_type": "code",
   "execution_count": 4,
   "id": "e1fe866e",
   "metadata": {},
   "outputs": [],
   "source": [
    "def subsetNAIP(img_col, startTime, endTime, fc):\n",
    "    img = img_col.filterDate(startTime, endTime).filterBounds(fc).mosaic().clip(fc)\n",
    "    return img\n",
    "\n",
    "def calNDVI(image):\n",
    "    return image.normalizedDifference(['R', 'N'])\n",
    "\n",
    "def rasterToVector(img, fc):\n",
    "    vec = img.reduceToVectors(geometry=fc, eightConnected=True, maxPixels=59568116121, crs=img.projection(), scale=1)\n",
    "    return vec   "
   ]
  },
  {
   "cell_type": "markdown",
   "id": "4d8f6849",
   "metadata": {},
   "source": [
    "## Main Code\n",
    "- Import main functions\n",
    "- Import collections and data --> Filter Date + Bounds\n",
    "- Preprocess each dataset\n",
    "- Export datasets to drive"
   ]
  },
  {
   "cell_type": "markdown",
   "id": "5a21d880",
   "metadata": {},
   "source": [
    "#### Datasets\n",
    "- NAIP --> NDVI, NDWI, EVI, GCI, FVC\n",
    "- DEM (3DEP) --> Elevation (as-is), slope, aspect, hillshade\n",
    "- LULC (ESA)\n",
    "- Wind (GRIDMET)\n",
    "- Fuel Model (LANDFIRE)"
   ]
  },
  {
   "cell_type": "markdown",
   "id": "30ec1a56",
   "metadata": {},
   "source": [
    "| Data Source | Spatial Resolution | Temporal Resolution | Extractable Features |\n",
    "| :-: | :-: | :-: | :-: | \n",
    "| NAIP | < 1m | Yearly | NDVI, NDWI, EVI, GCI, FVC |\n",
    "| DEM (3DEP) | ~10m | Variable | Elevation, Slope, Aspect, Hillshade |\n",
    "| LULC (ESA) | 10m | Yearly | Land use, Land cover |\n",
    "| Wind (GRIDMET) | 4.6km | ? | Wind Direction, Wind Velocity | \n",
    "| Fuel Model (LANDFIRE) | 30m | ? | Fuel Classes |"
   ]
  },
  {
   "cell_type": "markdown",
   "id": "12b96f8e",
   "metadata": {},
   "source": [
    "### Input Parameters"
   ]
  },
  {
   "cell_type": "code",
   "execution_count": 5,
   "id": "0f998c63",
   "metadata": {},
   "outputs": [],
   "source": [
    "# Set input parameters and file directory\n",
    "os.chdir('/Users/minho/Desktop/CE263/Project')\n",
    "\n",
    "years = [2018] # For NAIP\n",
    "img_scale = 10 # For output's spatial resolution"
   ]
  },
  {
   "cell_type": "markdown",
   "id": "7cedf354",
   "metadata": {},
   "source": [
    "### Read AOI csv"
   ]
  },
  {
   "cell_type": "code",
   "execution_count": 6,
   "id": "8cac838c",
   "metadata": {},
   "outputs": [],
   "source": [
    "def aoi_in(long1, lat1, long2, lat2):\n",
    "    return ee.FeatureCollection(ee.Geometry.Polygon([[[long1, lat1],[long1, lat2],[long2, lat2],[long2, lat1]]]))\n",
    "\n",
    "'''\n",
    "Example \n",
    "\n",
    "aoi = ee.FeatureCollection(ee.Geometry.Polygon(\n",
    "        [[[-122.2363652412898, 37.9181758764888],\n",
    "          [-122.2363652412898, 37.83091254476254],\n",
    "          [-122.11894885945387, 37.83091254476254],\n",
    "          [-122.11894885945387, 37.9181758764888]]]\n",
    "        )\n",
    "      )\n",
    "      \n",
    "'''\n",
    "\n",
    "# Input UL and LR long/lat values for each AOI polygon (as ee.FeatureCollection) into list\n",
    "aoi_csv = pd.read_csv('aoi_list.csv')\n",
    "\n",
    "Map = geemap.Map(center=[40,-100], zoom=4)\n",
    "\n",
    "aois = []\n",
    "years, months, days = [],[],[]\n",
    "\n",
    "for i in range(len(aoi_csv)):\n",
    "    aois.append(aoi_in(aoi_csv['long1'][i], aoi_csv['lat1'][i], aoi_csv['long2'][i],aoi_csv['lat2'][i]))\n",
    "    \n",
    "    years.append('20'+aoi_csv['date'][i].split('/')[-1])\n",
    "    months.append(aoi_csv['date'][i].split('/')[-3].zfill(2))\n",
    "    days.append(aoi_csv['date'][i].split('/')[-2].zfill(2))\n",
    "    \n",
    "aoi_list = pd.DataFrame()\n",
    "aoi_list['year'] = years\n",
    "aoi_list['month'] = months\n",
    "aoi_list['day'] = days\n",
    "aoi_list['aoi'] = aois"
   ]
  },
  {
   "cell_type": "code",
   "execution_count": 7,
   "id": "40ae78ae",
   "metadata": {},
   "outputs": [
    {
     "name": "stdout",
     "output_type": "stream",
     "text": [
      "Number of AOI polygons:  51\n"
     ]
    }
   ],
   "source": [
    "# Number of AOI (Polygons) in list\n",
    "\n",
    "if type(aoi_list) == ee.featurecollection.FeatureCollection:\n",
    "    count = aoi.size().getInfo()    \n",
    "else:\n",
    "    count = len(aoi_list)\n",
    "    \n",
    "print('Number of AOI polygons: ', count)"
   ]
  },
  {
   "cell_type": "code",
   "execution_count": 8,
   "id": "3c08e71d",
   "metadata": {},
   "outputs": [],
   "source": [
    "# # Convert all AOI polygons to \"shapefiles\" and save to disc\n",
    "# for i in range(len(aoi_list)):\n",
    "    \n",
    "#     task = ee.batch.Export.table.toDrive(**{\n",
    "#       'collection': aois[i],\n",
    "#       'description':'fire_aoi'+str(i),\n",
    "#       'folder':'fires',\n",
    "#       'fileFormat': 'SHP'\n",
    "#     })\n",
    "    \n",
    "#     task.start()"
   ]
  },
  {
   "cell_type": "markdown",
   "id": "3ca7f41e",
   "metadata": {},
   "source": [
    "## Input Datasets\n",
    "- DEM\n",
    "- LULC\n",
    "- GRIDMET\n",
    "- Satellite Images (Sentinel-2, NAIP)\n",
    "- LANDFIRE Vegetation height, vegetation condition (For fuel model)"
   ]
  },
  {
   "cell_type": "markdown",
   "id": "4092775b",
   "metadata": {},
   "source": [
    "### DEM"
   ]
  },
  {
   "cell_type": "code",
   "execution_count": 9,
   "id": "39a9cd34",
   "metadata": {},
   "outputs": [],
   "source": [
    "# DEM\n",
    "dem = ee.Image('USGS/3DEP/10m')\n",
    "\n",
    "elevation = dem.select('elevation')\n",
    "slope = ee.Terrain.slope(elevation)\n",
    "\n",
    "# x, y = np.gradient(dem)\n",
    "# aspect = np.arctan2(-x, y)"
   ]
  },
  {
   "cell_type": "markdown",
   "id": "13a18a3e",
   "metadata": {},
   "source": [
    "### LULC"
   ]
  },
  {
   "cell_type": "code",
   "execution_count": 10,
   "id": "027b0b45",
   "metadata": {},
   "outputs": [],
   "source": [
    "# LULC\n",
    "lulc = ee.ImageCollection(\"ESA/WorldCover/v100\").first();"
   ]
  },
  {
   "cell_type": "markdown",
   "id": "3603038d",
   "metadata": {},
   "source": [
    "### GRIDMET (Weather)"
   ]
  },
  {
   "cell_type": "code",
   "execution_count": 11,
   "id": "ffcd2d68",
   "metadata": {},
   "outputs": [],
   "source": [
    "gridmet = ee.ImageCollection('IDAHO_EPSCOR/GRIDMET')\n",
    "\n",
    "# Variables (maxtemp, mintemp, minhumidity, maxhumidity, winddir, windvel, precip)\n",
    "maxtemp = gridmet.select('tmmx')\n",
    "mintemp = gridmet.select('tmmn')\n",
    "\n",
    "minhumidity = gridmet.select('rmin')\n",
    "maxhumidity = gridmet.select('rmax')\n",
    "\n",
    "winddir = gridmet.select('vs') # Degrees clockwise from North\n",
    "windvel = gridmet.select('th') \n",
    "\n",
    "precip = gridmet.select('pr')\n",
    "\n",
    "# maxtempvis = {\n",
    "#   min: 290.0,\n",
    "#   max: 314.0,\n",
    "#   'palette': ['d8d8d8', '4addff', '5affa3', 'f2ff89', 'ff725c'],\n",
    "# };\n",
    "# Map.setCenter(-115.356, 38.686, 15)\n",
    "# Map.addLayer(maxtemp, maxtempvis, 'Max Temp')\n"
   ]
  },
  {
   "cell_type": "markdown",
   "id": "c6509e98",
   "metadata": {},
   "source": [
    "### LANDFIRE: Vegetation Height + Condition (2014)"
   ]
  },
  {
   "cell_type": "code",
   "execution_count": 13,
   "id": "e5dd6a2e",
   "metadata": {},
   "outputs": [],
   "source": [
    "evh = ee.ImageCollection('LANDFIRE/Vegetation/EVH/v1_4_0').select(['EVH'])\n",
    "vcc = ee.ImageCollection('LANDFIRE/Fire/VCC/v1_4_0').first"
   ]
  },
  {
   "cell_type": "code",
   "execution_count": 16,
   "id": "5d8f1132",
   "metadata": {},
   "outputs": [],
   "source": [
    "def perc_cov(img, aoi_ext, band_name):\n",
    "\n",
    "    # count pixels in aoi image\n",
    "    totPixels = ee.Number(ee.Image(1).reduceRegion(\n",
    "        reducer= ee.Reducer.count(),\n",
    "        geometry= aoi_ext,\n",
    "        scale= 10,\n",
    "        maxPixels= 999999999,\n",
    "      ).values().get(0))\n",
    "\n",
    "    # Count the non zero/null pixels in the image within the aoi\n",
    "    actPixels = ee.Number(img.select(band_name).reduceRegion(\n",
    "        reducer= ee.Reducer.count(),\n",
    "        scale= 10,\n",
    "        geometry= aoi_ext, \n",
    "        maxPixels= 999999999,\n",
    "      ).values().get(0))\n",
    "\n",
    "    # calculate the perc of cover\n",
    "    pcPix = actPixels.divide(totPixels).multiply(100)\n",
    "#     print('AOI Coverage : ', actPixels.getInfo(), 'pixels out of ', totPixels.getInfo())\n",
    "#     print('Percentage Cover {:.3f} %'.format(pcPix.getInfo()))\n",
    "    \n",
    "    return pcPix"
   ]
  },
  {
   "cell_type": "markdown",
   "id": "3a26e854",
   "metadata": {},
   "source": [
    "### Filter S2"
   ]
  },
  {
   "cell_type": "code",
   "execution_count": 17,
   "id": "54421bb3",
   "metadata": {},
   "outputs": [],
   "source": [
    "def calc_stats(img, roi):\n",
    "    imgPoly = ee.Algorithms.GeometryConstructors.Polygon(\n",
    "              ee.Geometry( img.get('system:footprint') ).coordinates()\n",
    "              )\n",
    "\n",
    "    intersection = roi.intersection(imgPoly, ee.ErrorMargin(0.5))\n",
    "    coveragePercent = intersection.area().divide(roi.area(0.001)).multiply(100)\n",
    "\n",
    "    img = img.set('ROI_COVERAGE_PERCENT', coveragePercent)\n",
    "    return coveragePercent"
   ]
  },
  {
   "cell_type": "code",
   "execution_count": 18,
   "id": "ae5ea420",
   "metadata": {},
   "outputs": [],
   "source": [
    "# Sentinel-2\n",
    "s2_bands = ['B1', 'B2', 'B3', 'B4', 'B5', 'B6', 'B7', 'B8', 'B8A', 'B9', 'B10', 'B11', 'B12']\n",
    "s2_10 =  ['B2', 'B3', 'B4']\n",
    "# s2vis = {min: 0.0, max: 0.5, 'bands':['B4', 'B3', 'B2']}\n",
    "\n",
    "s2vis = {\n",
    "  min: 0.0,\n",
    "  max: 2000,\n",
    "  'bands': ['B4', 'B3', 'B2'],\n",
    "}\n",
    "\n",
    "\n",
    "def maskS2clouds(image):\n",
    "    qa = image.select('QA60')\n",
    "\n",
    "    # Bits 10 and 11 are clouds and cirrus, respectively.\n",
    "    cloudBitMask = 1 << 10\n",
    "    cirrusBitMask = 1 << 11\n",
    "\n",
    "    # Both flags should be set to zero, indicating clear conditions.\n",
    "    mask = qa.bitwiseAnd(cloudBitMask).eq(0) and (qa.bitwiseAnd(cirrusBitMask).eq(0))\n",
    "\n",
    "    return image.updateMask(mask).divide(10000)\n",
    "\n",
    "\n",
    "def s2_ee(year, month, day, filterMo, aoi):\n",
    "\n",
    "    startMo = str((int(month) - filterMo)).zfill(2)\n",
    "\n",
    "    # Set date of acquisition\n",
    "    if month == '01':\n",
    "        startTime = ee.Date(str(int(year)-1) + '-' + str('12') + '-' + str(day))\n",
    "\n",
    "    elif startMo == '04' and day == '31' or startMo == '06' and day == '31' or startMo == '09' and day == '31' or startMo == '11' and day == '31':\n",
    "        startTime = ee.Date(str(year) + '-' + str(startMo) + '-' + str('30'))\n",
    "    else: \n",
    "        startTime = ee.Date(str(year) + '-' + str(startMo) + '-' + str(day))\n",
    "    \n",
    "    endTime = ee.Date(str(year) + '-' + str(month) + '-' + str(day))\n",
    "    print(startTime.format('Y-MM-dd').getInfo())\n",
    "    \n",
    "    # Set map center and visualize\n",
    "    polys = aoi.geometry()\n",
    "    centroid = polys.centroid()\n",
    "    lng, lat = centroid.getInfo()['coordinates']\n",
    "    \n",
    "    s2_list = ee.ImageCollection('COPERNICUS/S2') \\\n",
    "                    .filterDate(startTime, endTime) \\\n",
    "                    .filterBounds(aoi) \\\n",
    "                    .filter(ee.Filter.lt(\"CLOUDY_PIXEL_PERCENTAGE\",2)) \\\n",
    "                    .sort('CLOUDY_PIXEL_PERCENTAGE') \\\n",
    "#                     .map(maskS2clouds)\n",
    "    print(\" Number of images: \", s2_list.size().getInfo())\n",
    "\n",
    "    \n",
    "    # Filter through by AOI coverage percentage (%)\n",
    "    filtered_list = pd.DataFrame(columns = ['date', 'image'])\n",
    "    good_list, date_list, img_id = [],[],[]\n",
    "\n",
    "    listOfImages = s2_list.toList(s2_list.size())\n",
    "\n",
    "    for i in range(len(listOfImages.getInfo())):   \n",
    "\n",
    "        pcpix = calc_stats(ee.Image(listOfImages.get(i)), aoi.geometry()) # Set input AOI as \"geometry\"\n",
    "        pcpix_thresh = pcpix.getInfo()\n",
    "\n",
    "        if pcpix_thresh > 99: # AOI coverage threshold set to 90%\n",
    "            # rank_list.append(i)\n",
    "            good_list.append(ee.Image(listOfImages.get(i)))\n",
    "            img_id.append(ee.Image(listOfImages.get(i)).get('system:index').getInfo())\n",
    "            date_list.append(ee.Date(ee.Image(listOfImages.get(i)).get('system:time_start')).format('Y-MM-dd').getInfo())\n",
    "            print(\"Date of image : \", ee.Date(ee.Image(listOfImages.get(i)).get('system:time_start')).format('Y-MM-dd').getInfo())        \n",
    "            \n",
    "#             filtered_list['rank'] = rank_list\n",
    "            filtered_list['image'] = good_list\n",
    "            filtered_list['date'] = date_list\n",
    "            filtered_list['id'] = img_id\n",
    "            \n",
    "            break\n",
    "\n",
    "    if len(filtered_list) > 0:\n",
    "        s2_filtered = filtered_list['image'][0].select(s2_10).clip(polys)\n",
    "    else:\n",
    "        s2_filtered = 0\n",
    "        \n",
    "#     filtered_list['rank'] = rank_list\n",
    "#     filtered_list['image'] = good_list\n",
    "#     filtered_list['date'] = date_list\n",
    "#     filtered_list['id'] = img_id\n",
    "\n",
    "#     print(filtered_list)\n",
    "    \n",
    "#     if len(filtered_list) > 0:\n",
    "#         s2_filtered = filtered_list['image'][0].select(s2_10).clip(polys)\n",
    "        \n",
    "#     Map.addLayer(s2_filtered, {min:0, max:1000, 'bands':['B4','B3','B2']}, 'filtered'+str(i))\n",
    "    \n",
    "    return s2_filtered,filtered_list\n",
    "    \n",
    "#     # Mask clouds with QA60 layer\n",
    "#     s2_list_qa = s2_list.map(maskS2clouds)  \n",
    "#     s2filt = ee.Image(s2_list.first()).select(s2_10)\n",
    "#     s2filtqa = ee.Image(s2_list_qa.first()).select(s2_10)\n",
    "#     date = ee.Date(s2filt.get('system:time_start'))\n",
    "#     print(\"Formatted date\", date.format('Y-MM-dd').getInfo())\n",
    "\n",
    "#     # Set filename for S2 imagery\n",
    "    \n",
    "#     filename = 'S2' + str(year) + '_' + str(i) + '.tif'\n",
    "    \n",
    "#     s2clipped = s2filt.clip(polys)\n",
    "#     s2ndvi = s2clipped.normalizedDifference(['B8','B4'])\n",
    "\n",
    "# #     Map.setCenter(lng, lat, 14)\n",
    "# #     Map.addLayer(s2clipped, {}, 'S2')\n",
    "# #     Map.addLayer(s2ndvi, {}, 'S2_ndvi')\n",
    "# #     Map\n",
    "#     return s2clipped, s2filtqa.clip(polys), filtered_list\n"
   ]
  },
  {
   "cell_type": "code",
   "execution_count": 19,
   "id": "d059408e",
   "metadata": {},
   "outputs": [],
   "source": [
    "ult_list = pd.DataFrame()"
   ]
  },
  {
   "cell_type": "code",
   "execution_count": 20,
   "id": "411eb659",
   "metadata": {
    "scrolled": true
   },
   "outputs": [
    {
     "name": "stdout",
     "output_type": "stream",
     "text": [
      "AOI # 0\n",
      "2021-04-04\n",
      " Number of images:  88\n",
      "Date of image :  2021-04-06\n",
      "AOI # 1\n",
      "2021-04-03\n",
      " Number of images:  47\n",
      "Date of image :  2021-06-28\n",
      "AOI # 2\n",
      "2021-05-15\n",
      " Number of images:  147\n",
      "AOI # 3\n",
      "2021-04-14\n",
      " Number of images:  256\n",
      "AOI # 4\n",
      "2021-04-01\n",
      " Number of images:  92\n",
      "Date of image :  2021-04-01\n",
      "AOI # 5\n",
      "2021-05-29\n",
      " Number of images:  8\n",
      "Date of image :  2021-06-16\n",
      "AOI # 6\n",
      "2021-03-25\n",
      " Number of images:  33\n",
      "AOI # 7\n",
      "2021-04-30\n",
      " Number of images:  32\n",
      "AOI # 8\n",
      "2021-03-30\n",
      " Number of images:  19\n",
      "Date of image :  2021-04-09\n",
      "AOI # 9\n",
      "2021-03-28\n",
      " Number of images:  17\n",
      "Date of image :  2021-03-30\n",
      "AOI # 10\n",
      "2020-05-30\n",
      " Number of images:  14\n",
      "Date of image :  2020-06-30\n",
      "AOI # 11\n",
      "2020-04-30\n",
      " Number of images:  39\n",
      "Date of image :  2020-07-17\n",
      "AOI # 12\n",
      "2020-05-17\n",
      " Number of images:  31\n",
      "AOI # 13\n",
      "2020-05-17\n",
      " Number of images:  79\n",
      "AOI # 14\n",
      "2020-06-06\n",
      " Number of images:  37\n",
      "AOI # 15\n",
      "2020-06-29\n",
      " Number of images:  46\n",
      "AOI # 16\n",
      "2020-06-09\n",
      " Number of images:  9\n",
      "Date of image :  2020-08-10\n",
      "AOI # 17\n",
      "2020-06-18\n",
      " Number of images:  39\n",
      "AOI # 18\n",
      "2020-04-20\n",
      " Number of images:  27\n",
      "AOI # 19\n",
      "2020-04-18\n",
      " Number of images:  7\n",
      "Date of image :  2020-06-23\n",
      "AOI # 20\n",
      "2020-05-12\n",
      " Number of images:  24\n",
      "Date of image :  2020-07-12\n",
      "AOI # 21\n",
      "2020-05-14\n",
      " Number of images:  75\n",
      "AOI # 22\n",
      "2020-08-17\n",
      " Number of images:  18\n",
      "Date of image :  2020-09-03\n",
      "AOI # 23\n",
      "2020-05-13\n",
      " Number of images:  5\n",
      "Date of image :  2020-07-12\n",
      "AOI # 24\n",
      "2020-06-08\n",
      " Number of images:  19\n",
      "Date of image :  2020-08-10\n",
      "AOI # 25\n",
      "2020-06-17\n",
      " Number of images:  21\n",
      "Date of image :  2020-07-17\n",
      "AOI # 26\n",
      "2020-07-14\n",
      " Number of images:  29\n",
      "Date of image :  2020-07-15\n",
      "AOI # 27\n",
      "2020-06-05\n",
      " Number of images:  27\n",
      "Date of image :  2020-09-02\n",
      "AOI # 28\n",
      "2019-07-10\n",
      " Number of images:  77\n",
      "Date of image :  2019-07-11\n",
      "AOI # 29\n",
      "2019-04-25\n",
      " Number of images:  7\n",
      "Date of image :  2019-06-23\n",
      "AOI # 30\n",
      "2019-03-09\n",
      " Number of images:  2\n",
      "Date of image :  2019-04-24\n",
      "AOI # 31\n",
      "2019-06-05\n",
      " Number of images:  10\n",
      "Date of image :  2019-06-22\n",
      "AOI # 32\n",
      "2019-06-05\n",
      " Number of images:  9\n",
      "Date of image :  2019-06-19\n",
      "AOI # 33\n",
      "2019-06-05\n",
      " Number of images:  21\n",
      "Date of image :  2019-06-17\n",
      "AOI # 34\n",
      "2019-07-10\n",
      " Number of images:  14\n",
      "Date of image :  2019-08-12\n",
      "AOI # 35\n",
      "2019-06-05\n",
      " Number of images:  27\n",
      "Date of image :  2019-06-22\n",
      "AOI # 36\n",
      "2019-06-04\n",
      " Number of images:  24\n",
      "Date of image :  2019-08-22\n",
      "AOI # 37\n",
      "2019-04-28\n",
      " Number of images:  14\n",
      "Date of image :  2019-06-04\n",
      "AOI # 38\n",
      "2019-06-04\n",
      " Number of images:  41\n",
      "AOI # 39\n",
      "2018-06-04\n",
      " Number of images:  10\n",
      "Date of image :  2018-06-11\n",
      "AOI # 40\n",
      "2018-08-08\n",
      " Number of images:  50\n",
      "AOI # 41\n",
      "2018-04-25\n",
      " Number of images:  14\n",
      "Date of image :  2018-05-09\n",
      "AOI # 42\n",
      "2018-06-05\n",
      " Number of images:  24\n",
      "Date of image :  2018-08-06\n",
      "AOI # 43\n",
      "2018-05-01\n",
      " Number of images:  30\n",
      "Date of image :  2018-06-11\n",
      "AOI # 44\n",
      "2018-04-13\n",
      " Number of images:  21\n",
      "Date of image :  2018-06-01\n",
      "AOI # 45\n",
      "2018-05-09\n",
      " Number of images:  19\n",
      "Date of image :  2018-08-06\n",
      "AOI # 46\n",
      "2018-04-06\n",
      " Number of images:  10\n",
      "Date of image :  2018-05-07\n",
      "AOI # 47\n",
      "2018-04-27\n",
      " Number of images:  34\n",
      "AOI # 48\n",
      "2018-03-04\n",
      " Number of images:  5\n",
      "Date of image :  2018-04-20\n",
      "AOI # 49\n",
      "2018-04-06\n",
      " Number of images:  27\n",
      "Date of image :  2018-04-26\n",
      "AOI # 50\n",
      "2018-04-27\n",
      " Number of images:  14\n",
      "Date of image :  2018-06-24\n"
     ]
    }
   ],
   "source": [
    "for i in range(len(aoi_list)):\n",
    "    \n",
    "    print('AOI # {:.0f}'.format(i))\n",
    "    year = aoi_list['year'][i]\n",
    "    month = aoi_list['month'][i]\n",
    "    day = aoi_list['day'][i]\n",
    "\n",
    "    img, filtered_list = s2_ee(year, month, day, 3, aoi_list['aoi'][i])\n",
    "\n",
    "    filtered_list['aoi'] = i\n",
    "    ult_list = ult_list.append(filtered_list)"
   ]
  },
  {
   "cell_type": "code",
   "execution_count": 22,
   "id": "21be819a",
   "metadata": {},
   "outputs": [],
   "source": [
    "df = ult_list.reset_index(drop=True)"
   ]
  },
  {
   "cell_type": "markdown",
   "id": "e993e710",
   "metadata": {},
   "source": [
    "### Download images (Task)"
   ]
  },
  {
   "cell_type": "code",
   "execution_count": null,
   "id": "b22af7f8",
   "metadata": {},
   "outputs": [],
   "source": [
    "for i in range(2):\n",
    "    print(\"AOI #\", i)\n",
    "    a=aoi_list['aoi'][i].geometry().getInfo()['coordinates']\n",
    "#     print(\"UL: \", a[0][0], \" and LR: \", a[0][3])\n",
    "    print(aoi_list['aoi'][df['aoi'][i]].geometry().getInfo()['coordinates'])"
   ]
  },
  {
   "cell_type": "code",
   "execution_count": null,
   "id": "0fcdee36",
   "metadata": {},
   "outputs": [],
   "source": [
    "for i in range(len(df)):\n",
    "\n",
    "    a=aoi_list['aoi'][i].geometry().getInfo()['coordinates']\n",
    "    print(\"UL: \", a[0][0], \" and LR: \", a[0][3])\n",
    "\n",
    "    task1 = ee.batch.Export.image.toDrive(image=df['image'][i].select(['B2','B3','B4','B8']).clipToCollection(aoi_list['aoi'][df['aoi'][i]]),\n",
    "                                          description='s2_aoi_ll'+str(df['aoi'][i]),\n",
    "                                          folder='fires', \n",
    "#                                           crs=df['image'][i].select('B2').projection().getInfo()['crs'],\n",
    "                                          crs= 'EPSG:4326',\n",
    "                                          maxPixels=1e13, \n",
    "                                          scale=10, \n",
    "                                          fileFormat='GeoTIFF',\n",
    "#                                           region=aoi_list['aoi'][df['aoi'][i]].geometry().bounds())\n",
    "                                          region=aoi_list['aoi'][df['aoi'][i]].geometry().getInfo()['coordinates'])\n",
    "\n",
    "\n",
    "    task1.start()        "
   ]
  },
  {
   "cell_type": "code",
   "execution_count": null,
   "id": "d7b91d60",
   "metadata": {},
   "outputs": [],
   "source": [
    "task1.status()"
   ]
  },
  {
   "cell_type": "code",
   "execution_count": null,
   "id": "e92553e9",
   "metadata": {},
   "outputs": [],
   "source": [
    "for i in range(len(df)):\n",
    "\n",
    "    task2 = ee.batch.Export.image.toDrive(image=df['image'][i].select(['B5','B6','B7','B11','B12']).clipToCollection(aoi_list['aoi'][df['aoi'][i]]),\n",
    "                                          description='s2_20m_aoi'+str(df['aoi'][i]),\n",
    "                                          folder='fires', \n",
    "                                          crs=df['image'][i].select('B2').projection().getInfo()['crs'],\n",
    "                                          maxPixels=1e13, \n",
    "                                          scale=20, \n",
    "                                          fileFormat='GeoTIFF',\n",
    "#                                           region=aoi_list['aoi'][df['aoi'][i]].geometry().bounds())\n",
    "                                          \n",
    "    task2.start()        "
   ]
  },
  {
   "cell_type": "code",
   "execution_count": null,
   "id": "33955710",
   "metadata": {},
   "outputs": [],
   "source": [
    "task2.status()"
   ]
  },
  {
   "cell_type": "markdown",
   "id": "41c9677c",
   "metadata": {},
   "source": [
    "## Visualize map layers"
   ]
  },
  {
   "cell_type": "code",
   "execution_count": null,
   "id": "13f334b9",
   "metadata": {},
   "outputs": [],
   "source": [
    "for i in range(len(df)):\n",
    "    Map.addLayer(df['image'][11], {min:0, max:1000, 'bands':['B4','B3','B2']}, 'filtered'+str(i))"
   ]
  },
  {
   "cell_type": "code",
   "execution_count": null,
   "id": "bfa81f93",
   "metadata": {},
   "outputs": [],
   "source": [
    "Map = geemap.Map(center=[40,-100], zoom=4)\n",
    "Map.setCenter(aoi_list['aoi'][11].geometry().centroid().getInfo()['coordinates'], 14)\n",
    "Map.addLayer(df['image'][11].clip(aoi_list['aoi'][11]), {min:0, max:6000, 'bands':['B4','B3','B2']}, 'test_img')"
   ]
  },
  {
   "cell_type": "code",
   "execution_count": null,
   "id": "bd0723e7",
   "metadata": {},
   "outputs": [],
   "source": [
    "Map.addLayer(filtered_list['image'][0].normalizedDifference(['B8','B4']).clip(aoi_list['aoi'][0].geometry()), {}, 'ndvi_t')"
   ]
  },
  {
   "cell_type": "markdown",
   "id": "ec37e395",
   "metadata": {},
   "source": [
    "### NAIP imagery + NDVI (Visualization + Download)"
   ]
  },
  {
   "cell_type": "code",
   "execution_count": null,
   "id": "1f765655",
   "metadata": {
    "scrolled": true
   },
   "outputs": [],
   "source": [
    "# NAIP\n",
    "\n",
    "# truevis = {'bands': ['R', 'G', 'B'],'min':0}\n",
    "# ndviViz = {min: 0, max: 1, 'palette':['ffffff', '009900']}\n",
    "\n",
    "# for year in years:\n",
    "\n",
    "    # Set date of acquisition\n",
    "#     startTime = ee.Date(str(year) + '-01-01')\n",
    "#     endTime = ee.Date(str(year) + '-12-31')\n",
    "\n",
    "    # Set filename for NAIP imagery\n",
    "#     filename = 'NAIP_' + str(year) + '_' + str(i) + '.tif'\n",
    "\n",
    "    # Set map center and visualize\n",
    "#     polys = aoi_list['aoi'][i].geometry()\n",
    "#     centroid = polys.centroid()\n",
    "#     lng, lat = centroid.getInfo()['coordinates']\n",
    "#     print(\"lng = {}, lat = {}\".format(lng, lat))\n",
    "\n",
    "    # NAIP filter\n",
    "#     naip_img = ee.ImageCollection('USDA/NAIP/DOQQ').filterDate(startTime, endTime).filterBounds(aois[i]).mosaic().clip(aois[i])\n",
    "#     ndvi = naip_img.normalizedDifference(['N', 'R'])\n",
    "\n",
    "for i in range(len(aoi_list)):\n",
    "\n",
    "    # Variables (maxtemp, mintemp, minhumidity, maxhumidity, winddir, windvel, precip)\n",
    "    dl_img = [evh, vcc]\n",
    "    dl_dict = {\n",
    "            evh: 'evh_',\n",
    "            vcc: 'vcc_',\n",
    "#             maxtemp: 'maxtemp_', \n",
    "#             mintemp: 'mintemp_',\n",
    "#             minhumidity: 'minhumidity_', \n",
    "#             maxhumidity: 'maxhumidity_',\n",
    "#             winddir: 'winddir_',\n",
    "#             windvel: 'windvel_', \n",
    "#             precip: 'precip_'\n",
    "            }\n",
    "\n",
    "    # Download images and save to Google Drive\n",
    "    for img in dl_img:\n",
    "\n",
    "        print(\"Running : \", dl_dict[img], \"for AOI\" , i)\n",
    "\n",
    "        task2 = ee.batch.Export.image.toDrive(image=ee.Image(img).clip(aoi_list['aoi'][i].geometry()),\n",
    "                                              description=dl_dict[img]+'aoi'+str(i),\n",
    "                                              folder='fires', \n",
    "                                              crs='EPSG:4326',\n",
    "                                              maxPixels=1e13, \n",
    "                                              scale=10, \n",
    "                                              fileFormat='GeoTIFF',\n",
    "                                              region=aoi_list['aoi'][i].geometry())\n",
    "\n",
    "        task2.start()        \n",
    "\n",
    "#     Map.setCenter(lng, lat, 14)\n",
    "#     Map.addLayer(naip_img, truevis, 'truevis')\n",
    "#     Map.addLayer(ndvi, ndviViz, 'ndvi')\n",
    "#     Map.addLayer(slope.clip(aoi_list[i]), {min: 0, max: 60}, 'slope')\n",
    "#     Map.addLayer(dem.clip(aoi_list[i]), {}, 'dem')\n",
    "#     Map.addLayer(lulc.clip(aoi_list[i]), {}, 'lulc')\n",
    "\n",
    "#         Map.addLayer(maxtemp.mosaic().clip(aoi_list[i]), {}, 'maxtemp')\n",
    "#         Map.addLayer(mintemp.mosaic().clip(aoi_list[i]), {}, 'mintemp')\n",
    "#         Map.addLayer(minhumidity.mosaic().clip(aoi_list[i]), {}, 'minhumidity')\n",
    "#         Map.addLayer(maxhumidity.mosaic().clip(aoi_list[i]), {}, 'maxhumidity')\n",
    "#         Map.addLayer(winddir.mosaic().clip(aoi_list[i]), {}, 'winddir')\n",
    "#         Map.addLayer(windvel.mosaic().clip(aoi_list[i]), {}, 'windvel')\n",
    "#         Map.addLayer(precip.mosaic().clip(aoi_list[i]), {}, 'precip')        \n",
    "\n",
    "\n",
    "\n",
    "#     Map.addLayer(polys)\n",
    "\n"
   ]
  },
  {
   "cell_type": "code",
   "execution_count": null,
   "id": "e4959402",
   "metadata": {},
   "outputs": [],
   "source": [
    "task2.status()"
   ]
  }
 ],
 "metadata": {
  "kernelspec": {
   "display_name": "Python [conda env:fires]",
   "language": "python",
   "name": "fires"
  },
  "language_info": {
   "codemirror_mode": {
    "name": "ipython",
    "version": 3
   },
   "file_extension": ".py",
   "mimetype": "text/x-python",
   "name": "python",
   "nbconvert_exporter": "python",
   "pygments_lexer": "ipython3",
   "version": "3.9.7"
  },
  "varInspector": {
   "cols": {
    "lenName": 16,
    "lenType": 16,
    "lenVar": 40
   },
   "kernels_config": {
    "python": {
     "delete_cmd_postfix": "",
     "delete_cmd_prefix": "del ",
     "library": "var_list.py",
     "varRefreshCmd": "print(var_dic_list())"
    },
    "r": {
     "delete_cmd_postfix": ") ",
     "delete_cmd_prefix": "rm(",
     "library": "var_list.r",
     "varRefreshCmd": "cat(var_dic_list()) "
    }
   },
   "position": {
    "height": "540px",
    "left": "282px",
    "right": "20px",
    "top": "310.6875px",
    "width": "644px"
   },
   "types_to_exclude": [
    "module",
    "function",
    "builtin_function_or_method",
    "instance",
    "_Feature"
   ],
   "window_display": false
  }
 },
 "nbformat": 4,
 "nbformat_minor": 5
}
